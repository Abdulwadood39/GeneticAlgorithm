{
 "cells": [
  {
   "cell_type": "markdown",
   "id": "5eaa0799",
   "metadata": {},
   "source": [
    "## Genetic Algorithms for feature Selection\n"
   ]
  },
  {
   "cell_type": "markdown",
   "id": "ae16ce69",
   "metadata": {},
   "source": [
    "## Libraries"
   ]
  },
  {
   "cell_type": "code",
   "execution_count": 31,
   "id": "c6ce4e75",
   "metadata": {},
   "outputs": [],
   "source": [
    "import pandas as pd\n",
    "import numpy as np\n",
    "from numpy import NaN\n",
    "from sklearn import preprocessing\n",
    "from sklearn.model_selection import train_test_split\n",
    "from sklearn.ensemble import AdaBoostClassifier\n",
    "from sklearn.metrics import confusion_matrix\n",
    "from sklearn.metrics import confusion_matrix,recall_score,accuracy_score,f1_score,precision_score,classification_report"
   ]
  },
  {
   "cell_type": "markdown",
   "id": "16477267",
   "metadata": {},
   "source": [
    "## Loading the DataSet / Preprocessing\n"
   ]
  },
  {
   "cell_type": "code",
   "execution_count": 32,
   "id": "daf520ce",
   "metadata": {},
   "outputs": [],
   "source": [
    "df = pd.read_excel(\"Training_Data.xlsx\")"
   ]
  },
  {
   "cell_type": "markdown",
   "id": "7c3c9620",
   "metadata": {},
   "source": [
    "### Renaming the depression column (removing space \" \" in the name)"
   ]
  },
  {
   "cell_type": "code",
   "execution_count": 33,
   "id": "28e699c7",
   "metadata": {},
   "outputs": [],
   "source": [
    "df = df.rename(columns={'Depression ': 'Depression'})"
   ]
  },
  {
   "cell_type": "markdown",
   "id": "ac69fd5d",
   "metadata": {},
   "source": [
    "### Checking NaN values"
   ]
  },
  {
   "cell_type": "code",
   "execution_count": 34,
   "id": "95cf32d7",
   "metadata": {
    "scrolled": true
   },
   "outputs": [
    {
     "data": {
      "text/plain": [
       "PatientId                                0\n",
       "EncounterId                              0\n",
       "DischargeDisposision                     0\n",
       "Gender                                   0\n",
       "Race                                    93\n",
       "DiabetesMellitus                      3857\n",
       "ChronicKidneyDisease                  3906\n",
       "Anemia                                3002\n",
       "Depression                            5108\n",
       "ChronicObstructivePulmonaryDisease    3954\n",
       "Age                                      0\n",
       "ChronicDiseaseCount                      0\n",
       "LengthOfStay                             0\n",
       "EmergencyVisit                           0\n",
       "InpatientVisit                           0\n",
       "OutpatientVisit                          0\n",
       "TotalVisits                              0\n",
       "BMIMin                                   0\n",
       "BMIMax                                   0\n",
       "BMIMedian                                0\n",
       "BMIMean                                  0\n",
       "BPDiastolicMin                           0\n",
       "BPDiastolicMax                           0\n",
       "BPDiastolicMedian                        0\n",
       "BPDiastolicMean                          0\n",
       "BPSystolicMin                            0\n",
       "BPSystolicMax                            0\n",
       "BPSystolicMedian                         0\n",
       "BPSystolicMean                           0\n",
       "TemperatureMin                           0\n",
       "TemperatureMax                           0\n",
       "TemperatureMedian                        0\n",
       "TemperatureMean                          0\n",
       "HeartRateMin                             0\n",
       "HeartRateMax                             0\n",
       "HeartRateMedian                          0\n",
       "HeartRateMean                            0\n",
       "PulseRateMin                             0\n",
       "PulseRateMax                             0\n",
       "PulseRateMedian                          0\n",
       "PulseRateMean                            0\n",
       "RespiratoryRateMin                       0\n",
       "RespiratoryRateMax                       0\n",
       "RespiratoryRateMedian                    0\n",
       "RespiratoryRateMean                      0\n",
       "ACEInhibitors                            0\n",
       "ARBs                                     0\n",
       "BetaBlockers                             0\n",
       "Diuretics                                0\n",
       "TotalMedicine                            0\n",
       "CardiacTroponin                          0\n",
       "Hemoglobin                               0\n",
       "SerumSodium                              0\n",
       "SerumCreatinine                          0\n",
       "BNP                                      0\n",
       "NT-proBNP                                0\n",
       "ReadmissionWithin_90Days                 0\n",
       "dtype: int64"
      ]
     },
     "execution_count": 34,
     "metadata": {},
     "output_type": "execute_result"
    }
   ],
   "source": [
    "df.isna().sum(axis = 0)"
   ]
  },
  {
   "cell_type": "markdown",
   "id": "a7d0f84d",
   "metadata": {},
   "source": [
    "### Replacing [\"Depression \", \"COPD\"(ChronicObstructivePulmonaryDisease), \"DM\"(DiabetesMellitus), \"CKD\"(ChronicKidneyDisease), \"Anemia\"] with 1(\"Yes\") and NaN with 0(\"No\")\n",
    "as depression, ChronicObstructivePulmonaryDisease, DiabetesMellitus, ChronicKidneyDisease, Anemia are the column names so changing those values to yes and no"
   ]
  },
  {
   "cell_type": "code",
   "execution_count": 35,
   "id": "c0df0a69",
   "metadata": {},
   "outputs": [],
   "source": [
    "df['Depression'].replace(['Depression ', NaN],[1, 0], inplace=True)\n",
    "df.ChronicObstructivePulmonaryDisease.replace(['COPD', NaN],[1, 0], inplace=True)\n",
    "df.DiabetesMellitus.replace(['DM', NaN],[1, 0], inplace=True)\n",
    "df.ChronicKidneyDisease.replace(['CKD', NaN],[1, 0], inplace=True)\n",
    "df.Anemia.replace(['Anemia', NaN],[1, 0], inplace=True)"
   ]
  },
  {
   "cell_type": "markdown",
   "id": "dc63efc3",
   "metadata": {},
   "source": [
    "### Changing the NaN values in race to unknwon as unknown is already a category"
   ]
  },
  {
   "cell_type": "code",
   "execution_count": 36,
   "id": "df6f7997",
   "metadata": {},
   "outputs": [],
   "source": [
    "df.Race.replace(NaN,'UnKnown', inplace=True)"
   ]
  },
  {
   "cell_type": "markdown",
   "id": "95dd34ad",
   "metadata": {},
   "source": [
    "### Fixing Encounter ID to int"
   ]
  },
  {
   "cell_type": "code",
   "execution_count": 37,
   "id": "e4db208d",
   "metadata": {},
   "outputs": [],
   "source": [
    "values = np.array(df[\"EncounterId\"])\n",
    "for i in range(len(values)):\n",
    "    if str.isnumeric(str(values[i])):\n",
    "        pass\n",
    "    else:\n",
    "        for j in values[i]:\n",
    "            if str.isalpha(j):\n",
    "                values[i] = values[i].replace(j,str(ord(j)))\n",
    "    values[i] = int(values[i])\n",
    "    \n",
    "df[\"EncounterId\"] = values"
   ]
  },
  {
   "cell_type": "markdown",
   "id": "eafafaf6",
   "metadata": {},
   "source": [
    "### Taking Column Means replacing zero values"
   ]
  },
  {
   "cell_type": "code",
   "execution_count": 38,
   "id": "fe00e3d0",
   "metadata": {},
   "outputs": [],
   "source": [
    "List = ['BMIMin', 'BMIMax', 'BMIMedian', 'BMIMean',\n",
    "        'BPDiastolicMin', 'BPDiastolicMax', 'BPDiastolicMedian','BPDiastolicMean',\n",
    "        'BPSystolicMin', 'BPSystolicMax', 'BPSystolicMedian','BPSystolicMean',\n",
    "        'TemperatureMin', 'TemperatureMax', 'TemperatureMedian', 'TemperatureMean',\n",
    "        'HeartRateMin', 'HeartRateMax','HeartRateMedian', 'HeartRateMean',\n",
    "        'PulseRateMin', 'PulseRateMax','PulseRateMedian', 'PulseRateMean',\n",
    "        'RespiratoryRateMin','RespiratoryRateMax', 'RespiratoryRateMedian', 'RespiratoryRateMean',\n",
    "        'CardiacTroponin','Hemoglobin', 'SerumSodium', 'SerumCreatinine',\n",
    "        'BNP', 'NT-proBNP']\n",
    "\n",
    "for i in List:\n",
    "    arr = np.array(df[i])\n",
    "    arr = arr[arr != 0]\n",
    "    M = arr.mean()\n",
    "    df[i].replace(0,M, inplace=True)    \n"
   ]
  },
  {
   "cell_type": "markdown",
   "id": "a5c50e06",
   "metadata": {},
   "source": [
    "### Label Encoding"
   ]
  },
  {
   "cell_type": "code",
   "execution_count": 39,
   "id": "be138c66",
   "metadata": {},
   "outputs": [],
   "source": [
    "List = ['DischargeDisposision', 'Gender', 'Race','ReadmissionWithin_90Days']\n",
    "\n",
    "# label_encoder object knows how to understand word labels.\n",
    "label_encoder = preprocessing.LabelEncoder()\n",
    " \n",
    "# Encode labels in List.\n",
    "for i in List:\n",
    "    df[i]= label_encoder.fit_transform(df[i])"
   ]
  },
  {
   "cell_type": "markdown",
   "id": "6889fbbf",
   "metadata": {},
   "source": [
    "## Genetic Algorithm"
   ]
  },
  {
   "cell_type": "markdown",
   "id": "cc929b31",
   "metadata": {},
   "source": [
    "### Populate Chromosomes\n",
    "    populating n distict Chromosomes where n = ChromoCount "
   ]
  },
  {
   "cell_type": "code",
   "execution_count": 40,
   "id": "4bbcec4b",
   "metadata": {},
   "outputs": [],
   "source": [
    "def populate(ChromoCount):\n",
    "    List = []\n",
    "    \n",
    "    while(len(List) != ChromoCount):\n",
    "        x = list(np.random.randint(2,size = 56,dtype = int))\n",
    "        if x not in List:\n",
    "            List.append(x)\n",
    "    return List"
   ]
  },
  {
   "cell_type": "markdown",
   "id": "52b48e20",
   "metadata": {},
   "source": [
    "### Crossover funtion \n",
    "    Creating 2 child each iteration randomly and checking if the child does not exist already then append it\n",
    "    where Chromosomes is the Current Chromosomes 2D list and fill the list till no of Chorosomes become equal to ChromoCount \n",
    "   "
   ]
  },
  {
   "cell_type": "code",
   "execution_count": 41,
   "id": "26053176",
   "metadata": {},
   "outputs": [],
   "source": [
    "def crossover(Chromosomes,ChromoCount):\n",
    "    x = len(Chromosomes)      #getting parent rows\n",
    "    y = len(Chromosomes[0])   #getting column count\n",
    "    \n",
    "    while(len(Chromosomes) < ChromoCount):\n",
    "        P1 = np.random.randint(x)\n",
    "        P2 = np.random.randint(x)\n",
    "        while(P1 == P2):\n",
    "            P2 = np.random.randint(x)\n",
    "        RC = np.random.randint(1,y-1)     #  RC = crossover point\n",
    "        child1 = Chromosomes[P1][:RC] + Chromosomes[P2][RC:]\n",
    "        child2 = Chromosomes[P2][:RC] + Chromosomes[P1][RC:]\n",
    "        if child1 not in Chromosomes:\n",
    "            Chromosomes.append(child1)\n",
    "        if child2 not in Chromosomes:\n",
    "            Chromosomes.append(child2)\n",
    "\n",
    "    \n",
    "    return Chromosomes[:ChromoCount]"
   ]
  },
  {
   "cell_type": "markdown",
   "id": "ad26ddac",
   "metadata": {},
   "source": [
    "### Mutation\n",
    "    inverting bit from 0 to 1 and vice versa of a random row,column"
   ]
  },
  {
   "cell_type": "code",
   "execution_count": 42,
   "id": "6cced316",
   "metadata": {},
   "outputs": [],
   "source": [
    "def Mutate(Chromosomes):\n",
    "    x = len(Chromosomes)      #getting parent rows\n",
    "    y = len(Chromosomes[0])   #getting column count\n",
    "    row = np.random.randint(x)\n",
    "    column = np.random.randint(y)\n",
    "    if Chromosomes[row][column] == 1:\n",
    "        Chromosomes[row][column] = 0 \n",
    "    else:\n",
    "        Chromosomes[row][column] = 1\n",
    "        \n",
    "    return Chromosomes,row"
   ]
  },
  {
   "cell_type": "markdown",
   "id": "3d89029b",
   "metadata": {},
   "source": [
    "### Training \n",
    "    Receives Two arguments (X,Y) where X is the DataFrame columns on which training is to be done and Y is the \n",
    "    label(Target)"
   ]
  },
  {
   "cell_type": "code",
   "execution_count": 43,
   "id": "52646884",
   "metadata": {},
   "outputs": [],
   "source": [
    "def train_(X,Y):\n",
    "    X_train,X_test,y_train,y_test=train_test_split(X,Y,test_size=0.2,random_state=0)\n",
    "    ADB = AdaBoostClassifier()\n",
    "    ADB.fit(X_train, y_train)\n",
    "    pred = ADB.predict(X_test)\n",
    "    \n",
    "    return accuracy_score(y_test,pred)*100"
   ]
  },
  {
   "cell_type": "markdown",
   "id": "68409a9b",
   "metadata": {},
   "source": [
    "### GA (Genetic Algorithm)\n",
    "    can recieves three arguments DF = DataFrame who's columns you desire to get, ChromoCount is the Maximum \n",
    "    number of Chromosome each iteration runs and is set to 40 by default, iteration = maximum number of \n",
    "    iterations."
   ]
  },
  {
   "cell_type": "code",
   "execution_count": 44,
   "id": "3e7b3a24",
   "metadata": {},
   "outputs": [],
   "source": [
    "def GA(DF, ChromoCount = 40, iterations = 300):\n",
    "    CS = populate(ChromoCount)      #CS = Chromosomes\n",
    "    columns = np.array(df.columns)\n",
    "    columns = columns[:-1]          # [:-1] so the target column is droped\n",
    "    Last5 = []\n",
    "    selected = []\n",
    "    accuracy = []\n",
    "    maxone = [1,0,1]\n",
    "    maxi = 0\n",
    "    for i in range(iterations):\n",
    "        for j in range(len(accuracy), len(CS)):\n",
    "            x = np.array(CS[j])\n",
    "            selected = columns[x==1]\n",
    "            acc = train_(DF[selected],DF[\"ReadmissionWithin_90Days\"])\n",
    "            if(acc > maxi):\n",
    "                maxi = acc\n",
    "                maxone = CS[j]\n",
    "            accuracy.append(acc)\n",
    "        tempdf = pd.DataFrame({\"Chromosome\":CS,\"Accuracy\":accuracy})\n",
    "        tempdf = tempdf.sort_values(by = [\"Accuracy\"],ascending=False)\n",
    "        \n",
    "        CS = list(np.array(tempdf[\"Chromosome\"].head(ChromoCount//2)))\n",
    "        accuracy = list(np.array(tempdf[\"Accuracy\"].head(ChromoCount//2),dtype='float64'))\n",
    "        \n",
    "        if len(Last5) == 5:\n",
    "            Last5.pop(0)\n",
    "            Last5.append(accuracy[0])\n",
    "        else:\n",
    "            Last5.append(accuracy[0])\n",
    "\n",
    "        if (len(Last5)==5 and np.std(Last5) <= 0.001 and i > 300) or (accuracy[0] >= 80) :\n",
    "            return CS[0], accuracy[0]\n",
    "        if (iterations - i) != 1:             # don't crossover/ mutate at the end of last iteration\n",
    "            \n",
    "            CS = crossover(CS,ChromoCount)\n",
    "            threshold = 0.75\n",
    "            anynum = np.random.uniform(0,1)\n",
    "            if anynum > threshold:\n",
    "                CS,r = Mutate(CS)\n",
    "                if r < len(accuracy):\n",
    "                    x = np.array(CS[r])\n",
    "                    selected = columns[x==1]\n",
    "                    accuracy[r] = train_(DF[selected],DF[\"ReadmissionWithin_90Days\"])\n",
    "            \n",
    "    return maxone, maxi"
   ]
  },
  {
   "cell_type": "code",
   "execution_count": 45,
   "id": "5f906fc1",
   "metadata": {
    "scrolled": false
   },
   "outputs": [
    {
     "name": "stdout",
     "output_type": "stream",
     "text": [
      "CPU times: user 1h 5min 7s, sys: 45.6 s, total: 1h 5min 52s\n",
      "Wall time: 1h 5min 56s\n"
     ]
    }
   ],
   "source": [
    "%%time\n",
    "CS,ACCURACY = GA(df)"
   ]
  },
  {
   "cell_type": "code",
   "execution_count": 47,
   "id": "51c50499",
   "metadata": {},
   "outputs": [
    {
     "name": "stdout",
     "output_type": "stream",
     "text": [
      "The Selected Columns are:\n",
      "['EncounterId' 'DischargeDisposision' 'ChronicKidneyDisease' 'Anemia'\n",
      " 'Depression' 'ChronicObstructivePulmonaryDisease' 'Age'\n",
      " 'ChronicDiseaseCount' 'LengthOfStay' 'EmergencyVisit' 'InpatientVisit'\n",
      " 'OutpatientVisit' 'TotalVisits' 'BMIMax' 'BMIMedian' 'BPDiastolicMin'\n",
      " 'BPDiastolicMedian' 'BPDiastolicMean' 'BPSystolicMin' 'BPSystolicMax'\n",
      " 'BPSystolicMedian' 'BPSystolicMean' 'TemperatureMean' 'HeartRateMean'\n",
      " 'PulseRateMax' 'PulseRateMedian' 'PulseRateMean' 'RespiratoryRateMedian'\n",
      " 'ACEInhibitors' 'TotalMedicine' 'CardiacTroponin' 'SerumSodium' 'BNP'\n",
      " 'NT-proBNP'] \n",
      " Accuracy:75.36829699469652\n"
     ]
    }
   ],
   "source": [
    "columns = np.array(df.columns)\n",
    "columns = columns[:-1]\n",
    "selected = np.array(CS)\n",
    "selectedColumns = columns[selected == 1]\n",
    "\n",
    "print(f'The Selected Columns are:\\n{selectedColumns} \\n Accuracy:{ACCURACY}')"
   ]
  },
  {
   "cell_type": "code",
   "execution_count": null,
   "id": "95de4de7",
   "metadata": {},
   "outputs": [],
   "source": []
  }
 ],
 "metadata": {
  "kernelspec": {
   "display_name": "Python 3 (ipykernel)",
   "language": "python",
   "name": "python3"
  },
  "language_info": {
   "codemirror_mode": {
    "name": "ipython",
    "version": 3
   },
   "file_extension": ".py",
   "mimetype": "text/x-python",
   "name": "python",
   "nbconvert_exporter": "python",
   "pygments_lexer": "ipython3",
   "version": "3.10.4"
  }
 },
 "nbformat": 4,
 "nbformat_minor": 5
}
